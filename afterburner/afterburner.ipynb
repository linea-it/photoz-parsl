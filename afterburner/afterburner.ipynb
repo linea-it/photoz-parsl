{
 "cells": [
  {
   "cell_type": "markdown",
   "id": "80d501c8-d377-4cbd-b812-f8af145db099",
   "metadata": {},
   "source": [
    "\n",
    "<img align=\"left\" src = https://www.linea.gov.br/wp-content/themes/LIneA/imagens/logo-header.png width=120 style=\"padding: 20px\"> <br> \n",
    "\n",
    "# Photo-z Parsl Afterburner\n",
    "Last verified run: 07/27/2022\n"
   ]
  },
  {
   "cell_type": "markdown",
   "id": "57cc797d-a52f-4259-a746-48f61955a6b1",
   "metadata": {},
   "source": [
    "Disclaimer: preliminary version"
   ]
  },
  {
   "cell_type": "code",
   "execution_count": null,
   "id": "bab298fb-f95f-4263-9f25-e0215a6530bf",
   "metadata": {},
   "outputs": [],
   "source": [
    "import numpy as np\n",
    "import pandas as pd\n",
    "import matplotlib.pyplot as plt\n",
    "import yaml\n",
    "\n",
    "%matplotlib inline "
   ]
  },
  {
   "cell_type": "markdown",
   "id": "f826d0f0-f4b1-4b65-ae47-275b755d5102",
   "metadata": {},
   "source": [
    "#### Hardcoded paths (temporary)"
   ]
  },
  {
   "cell_type": "code",
   "execution_count": null,
   "id": "791054ec-8d93-4209-91f4-547aa3316678",
   "metadata": {},
   "outputs": [],
   "source": [
    "config_path = \"../sample-data/sample.yml\"\n",
    "input_paths = [\"../sample-data/cats/part-a.parquet\",\n",
    "               \"../sample-data/cats/part-b.parquet\",\n",
    "               \"../sample-data/cats/part-c.parquet\",\n",
    "               \"../sample-data/cats/part-d.parquet\",\n",
    "               \"../sample-data/cats/part-e.parquet\"\n",
    "              ]\n",
    "output_paths = [\"../sandbox/data/outputs/part-a/photz-00003.parquet\",\n",
    "              \"../sandbox/data/outputs/part-b/photz-00001.parquet\",\n",
    "              \"../sandbox/data/outputs/part-c/photz-00002.parquet\",\n",
    "              \"../sandbox/data/outputs/part-d/photz-00005.parquet\",\n",
    "              \"../sandbox/data/outputs/part-e/photz-00004.parquet\"\n",
    "             ]"
   ]
  },
  {
   "cell_type": "markdown",
   "id": "7ba357c2-98e3-4014-a013-43d856e235b1",
   "metadata": {},
   "source": [
    "To do: make output paths consistent (alphabetical/numeric)"
   ]
  },
  {
   "cell_type": "markdown",
   "id": "bb8e9f68-60c8-450c-906b-0b21202bb1b5",
   "metadata": {},
   "source": [
    "### Configuration used"
   ]
  },
  {
   "cell_type": "code",
   "execution_count": null,
   "id": "504743f0-b031-4f96-a4a5-f7e601a7c8aa",
   "metadata": {},
   "outputs": [],
   "source": [
    "with open(config_path) as _file:\n",
    "    phz_config = yaml.load(_file, Loader=yaml.FullLoader)\n",
    "    settings = phz_config.get('settings', {})\n",
    "settings"
   ]
  },
  {
   "cell_type": "markdown",
   "id": "450b8654-b96e-4c75-8e53-a09d95b4b905",
   "metadata": {},
   "source": [
    "### Input data "
   ]
  },
  {
   "cell_type": "code",
   "execution_count": null,
   "id": "5354e083-b0dd-418b-948d-bc14488a6577",
   "metadata": {},
   "outputs": [],
   "source": [
    "data = pd.read_parquet(input_paths[0])\n",
    "for i in range(1,5):\n",
    "    data = pd.concat([data, pd.read_parquet(input_paths[i])])"
   ]
  },
  {
   "cell_type": "code",
   "execution_count": null,
   "id": "0196d3eb-9ea3-4402-8898-e4d866d00218",
   "metadata": {},
   "outputs": [],
   "source": [
    "data.head()"
   ]
  },
  {
   "cell_type": "code",
   "execution_count": null,
   "id": "136a3979-3106-4067-8dda-e8ca0955d63b",
   "metadata": {},
   "outputs": [],
   "source": [
    "data.describe()"
   ]
  },
  {
   "cell_type": "markdown",
   "id": "9419541b-bb03-4d3a-833b-c2ba3b9345a0",
   "metadata": {},
   "source": [
    "#### Spatial distribution"
   ]
  },
  {
   "cell_type": "code",
   "execution_count": null,
   "id": "bc9fa3bc-01f5-4108-b0e2-7aba69ef624f",
   "metadata": {},
   "outputs": [],
   "source": [
    "plt.figure()\n",
    "plt.hexbin(data.RA, data.DEC, gridsize=50, mincnt=1) \n",
    "plt.xlabel(\"R.A.\", fontsize=14)\n",
    "plt.ylabel(\"Dec.\", fontsize=14)\n",
    "plt.colorbar(label=\"density of points\")\n",
    "plt.tight_layout()"
   ]
  },
  {
   "cell_type": "markdown",
   "id": "bbfd84f6-2ff3-4878-ba13-9e0eed10a9eb",
   "metadata": {},
   "source": [
    "### Magnitudes"
   ]
  },
  {
   "cell_type": "code",
   "execution_count": null,
   "id": "7046776b-cee0-46df-81ef-ddf838c80b8d",
   "metadata": {},
   "outputs": [],
   "source": [
    "from utils import get_photometric_columns\n",
    "columns_list = get_photometric_columns(settings['bands'], settings['photo_type'], \n",
    "                                       settings['err_type'], settings['index'])\n",
    "columns_list"
   ]
  },
  {
   "cell_type": "code",
   "execution_count": null,
   "id": "4aa50a4c-a4cd-4eba-a626-ce25b79832e3",
   "metadata": {},
   "outputs": [],
   "source": [
    "data.columns"
   ]
  },
  {
   "cell_type": "code",
   "execution_count": null,
   "id": "31f90548-9a09-40e8-8e20-2a72da7473c3",
   "metadata": {},
   "outputs": [],
   "source": [
    "plt.figure()\n",
    "for band in settings['bands']:\n",
    "    mag = settings['photo_type'].format(band)\n",
    "    query = mag + \"< 40.\"\n",
    "    plt.hist(data.query(query)[mag], histtype=\"step\", bins=np.arange(15, 30, 0.4), label=band, lw=2)\n",
    "plt.legend()\n",
    "plt.xlabel(\"magnitude\")\n",
    "plt.xlim(15, 30)\n",
    "plt.tight_layout()"
   ]
  },
  {
   "cell_type": "code",
   "execution_count": null,
   "id": "b21081b8-d78e-4612-bd52-6033e09416b2",
   "metadata": {},
   "outputs": [],
   "source": [
    "for band in settings['bands']:\n",
    "    plt.figure()\n",
    "    plt.plot(data[settings['photo_type'].format(band)],  \n",
    "             data[settings['err_type'].format(band)], \n",
    "             \".\", alpha=0.5)\n",
    "    plt.xlim(15,30)\n",
    "    plt.ylim(0,2)\n",
    "    plt.xlabel(settings['photo_type'].format(band))    \n",
    "    plt.ylabel(settings['err_type'].format(band))\n",
    "    plt.tight_layout()"
   ]
  },
  {
   "cell_type": "markdown",
   "id": "5af61c5c-8254-4da9-ab65-faed6b2168b0",
   "metadata": {},
   "source": [
    "### Outputs  (LePhare results)"
   ]
  },
  {
   "cell_type": "code",
   "execution_count": null,
   "id": "1fba3f14-4591-47e2-8424-3a4410dee320",
   "metadata": {},
   "outputs": [],
   "source": [
    "data_a = pd.read_parquet(output_paths[0])\n",
    "data_b = pd.read_parquet(output_paths[1])\n",
    "data_c = pd.read_parquet(output_paths[2])\n",
    "data_d = pd.read_parquet(output_paths[3])\n",
    "data_e = pd.read_parquet(output_paths[4])"
   ]
  },
  {
   "cell_type": "code",
   "execution_count": null,
   "id": "f9921c4d-ecec-41cb-90a6-3979ec4b55f2",
   "metadata": {},
   "outputs": [],
   "source": [
    "photoz = pd.read_parquet(output_paths[0])\n",
    "for i in range(1,5):\n",
    "    photoz = pd.concat([photoz, pd.read_parquet(output_paths[i])])"
   ]
  },
  {
   "cell_type": "code",
   "execution_count": null,
   "id": "03ae15f8-a64d-4635-aa12-ce8d7298536b",
   "metadata": {},
   "outputs": [],
   "source": [
    "photoz.head()"
   ]
  },
  {
   "cell_type": "code",
   "execution_count": null,
   "id": "2c56d8fb-bd52-49c0-bbda-de3f4c90f133",
   "metadata": {},
   "outputs": [],
   "source": [
    "photoz.describe()"
   ]
  },
  {
   "cell_type": "markdown",
   "id": "3d2a7916-52ed-4c12-8638-2edd743340c9",
   "metadata": {},
   "source": [
    "### Redshift distribution \n",
    "\n",
    "#### Best fit photo-z"
   ]
  },
  {
   "cell_type": "code",
   "execution_count": null,
   "id": "686b1090-6325-404d-b0b3-710edbc073ff",
   "metadata": {},
   "outputs": [],
   "source": [
    "plt.figure()\n",
    "plt.hist(photoz.z_best, histtype=\"step\", label=\"z_best\", lw=2,\n",
    "         bins=np.arange(0, 2, 0.05))\n",
    "plt.xlabel(\"photo-z\")\n",
    "plt.ylabel(\"counts\")\n",
    "plt.legend()\n",
    "plt.tight_layout()"
   ]
  },
  {
   "cell_type": "markdown",
   "id": "5dcd2029-7091-48ff-b385-23a7b1172d5b",
   "metadata": {},
   "source": [
    "#### Maximum likelihood photo-z"
   ]
  },
  {
   "cell_type": "code",
   "execution_count": null,
   "id": "d91ac888-6e10-4070-85f5-d77935ee8fd7",
   "metadata": {},
   "outputs": [],
   "source": [
    "plt.figure()\n",
    "plt.hist(photoz.z_ml, histtype=\"step\", label=\"z_ml\", lw=2,\n",
    "         bins=np.arange(0, 2, 0.05))\n",
    "plt.xlabel(\"photo-z\")\n",
    "plt.ylabel(\"counts\")\n",
    "plt.legend()\n",
    "plt.tight_layout()"
   ]
  },
  {
   "cell_type": "markdown",
   "id": "923d3adc-6706-47fb-8fac-c5f273b4da1d",
   "metadata": {},
   "source": [
    "#### Photo-z errors"
   ]
  },
  {
   "cell_type": "code",
   "execution_count": null,
   "id": "783a7b11-096a-44e9-ad92-60c2c5db5bb3",
   "metadata": {},
   "outputs": [],
   "source": [
    "plt.figure()\n",
    "plt.hist(photoz.err_z, histtype=\"step\", lw=2,\n",
    "         bins=np.arange(0, 1, 0.02))\n",
    "plt.xlabel(\"photo-z error\")\n",
    "plt.ylabel(\"counts\")\n",
    "plt.tight_layout()"
   ]
  },
  {
   "cell_type": "markdown",
   "id": "0900573d-4589-4ebe-b47a-1c344054f76e",
   "metadata": {},
   "source": [
    "#### Best fit versus maximum likelihood photo-zs"
   ]
  },
  {
   "cell_type": "code",
   "execution_count": null,
   "id": "0bce8767-e92d-4ac0-90da-e3e09a84178a",
   "metadata": {},
   "outputs": [],
   "source": [
    "plt.figure(figsize=[6,6])\n",
    "plt.plot(photoz.z_best, photoz.z_ml, \".\")\n",
    "plt.plot([-1, 3], [-1, 3], 'r-')\n",
    "plt.xlabel(\"photo-z (z_best)\")\n",
    "plt.ylabel(\"photo-z (z_ml)\")\n",
    "plt.xlim(0., 2.)\n",
    "plt.ylim(0., 2.)\n",
    "plt.tight_layout()"
   ]
  },
  {
   "cell_type": "code",
   "execution_count": null,
   "id": "bc1d825d-7f9c-4a32-8afc-f938a5f36b03",
   "metadata": {},
   "outputs": [],
   "source": []
  }
 ],
 "metadata": {
  "kernelspec": {
   "display_name": "parsl-env",
   "language": "python",
   "name": "parsl-env"
  },
  "language_info": {
   "codemirror_mode": {
    "name": "ipython",
    "version": 3
   },
   "file_extension": ".py",
   "mimetype": "text/x-python",
   "name": "python",
   "nbconvert_exporter": "python",
   "pygments_lexer": "ipython3",
   "version": "3.9.12"
  }
 },
 "nbformat": 4,
 "nbformat_minor": 5
}
