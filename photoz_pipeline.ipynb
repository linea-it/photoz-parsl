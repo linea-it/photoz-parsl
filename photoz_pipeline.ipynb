{
 "cells": [
  {
   "cell_type": "markdown",
   "metadata": {},
   "source": [
    "# Photo-z Pipeline\n",
    "\n",
    "\n",
    "This notebook performs training, validation and evaluation of photo-z using the algorithms available in the DES Science Portal, but using Parsl to handle parallel processes instead of the Portal's orchestration. This is done in preparation for the LIneA LSST Portal. \n",
    "\n",
    "Last verified run: **mm-dd-yyyy** \n",
    "\n",
    "\n",
    "Contact: **Julia Gschwend** ([@Gschwend](https://github.com/Gschwend), [julia@linea.gov.br](mailto:julia@linea.gov.br))\n"
   ]
  },
  {
   "cell_type": "markdown",
   "metadata": {},
   "source": [
    "### Workflow 1: Training and Validation\n",
    "\n",
    "1. Get input data (training set) and configuration\n",
    "\n",
    "2. Clean, weight(optional), and separate data in training and validation subsets\n",
    "\n",
    "3. Format input data according to the photo-z algorithm to be used\n",
    "\n",
    "4. Run training procedure (produce training files)\n",
    "\n",
    "5. Run validation procedure (evaluate photo-zs in the validation subset)\n",
    "\n",
    "6. Analize the results (plots, metrics, comparison photo-z vs. spec-z)\n",
    "\n",
    "### Workflow 2: Evaluation\n",
    "\n",
    "1. Get input data (photometric set/coadd_objects table) and configuration (config. regarding paralelization)\n",
    "\n",
    "2. Split process in parallel \n",
    "\n",
    "3. Format input data according to the photo-z algorithm to be used\n",
    "\n",
    "4. Run evaluation procedure (produce photo-z tables and PDF files)\n",
    "\n",
    "5. Analize the results (plots, comparison observed vs. theory)\n",
    "\n"
   ]
  },
  {
   "cell_type": "code",
   "execution_count": null,
   "metadata": {},
   "outputs": [],
   "source": []
  },
  {
   "cell_type": "code",
   "execution_count": null,
   "metadata": {},
   "outputs": [],
   "source": []
  },
  {
   "cell_type": "code",
   "execution_count": null,
   "metadata": {},
   "outputs": [],
   "source": []
  },
  {
   "cell_type": "code",
   "execution_count": null,
   "metadata": {},
   "outputs": [],
   "source": []
  },
  {
   "cell_type": "code",
   "execution_count": null,
   "metadata": {},
   "outputs": [],
   "source": []
  }
 ],
 "metadata": {
  "kernelspec": {
   "display_name": "science",
   "language": "python",
   "name": "science"
  },
  "language_info": {
   "codemirror_mode": {
    "name": "ipython",
    "version": 3
   },
   "file_extension": ".py",
   "mimetype": "text/x-python",
   "name": "python",
   "nbconvert_exporter": "python",
   "pygments_lexer": "ipython3",
   "version": "3.6.8"
  }
 },
 "nbformat": 4,
 "nbformat_minor": 2
}
