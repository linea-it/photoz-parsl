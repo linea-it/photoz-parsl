{
 "cells": [
  {
   "cell_type": "markdown",
   "metadata": {},
   "source": [
    "# Photo-z Pipeline\n",
    "\n",
    "\n",
    "Last verified run: **mm-dd-yyyy** \n",
    "\n",
    "Contact: **Julia Gschwend** ([@Gschwend](https://github.com/Gschwend), [julia@linea.gov.br](mailto:julia@linea.gov.br))\n"
   ]
  },
  {
   "cell_type": "markdown",
   "metadata": {},
   "source": [
    "### Workflow 1: Training and Validation\n",
    "\n",
    "1. Run CMNN complete workflow (cmnn_run.py)\n",
    "\n",
    "\n",
    "### Workflow 2: PZ Compute - run in parallel using Parsl \n",
    "\n",
    "#### 1-1 \n",
    "\n",
    "First component (before going parallel): \n",
    "\n",
    "1. Run step 1 of CMNN `cmnn_catalog.make_test_and_train()` to create the training set (train.cat) from the example input file (LSST_galaxy_catalog_i25p3.dat). No change in default parameters ( `--test_N 200000`). It will also create a test set (test.cat) w/ 40000 objects. \n",
    "    1.1 In case of 5 bands (DES Y6), replace the u-band columnn (mag and error) by 99s \n",
    " \n",
    "\n",
    "#### 1-N \n",
    "\n",
    "Split process in parallel.\n",
    "\n",
    "#### For each job: 1-1\n",
    "\n",
    "2. Prepare the new test.dat (each job file) parquet -> ascii (ignore the original test.cat created in the previous step). IN case of \n",
    "    2.1 In case of 5 bands (DES Y6), create the file test.dat with 99s to fill the u-band columns (mag and error)\n",
    "3. Use the train.cat and the new test.cat to run the second step of CMNN `cmnn_photoz.make_zphot()` \n",
    "4. Delete train.cat, test.cat\n",
    "5. Convert outputs zphot.cat --> zphot.parquet\n",
    "6. Delete zphot.cat\n",
    "\n",
    "#### N-1\n",
    "\n",
    "7. Afterburner: N(z) global (random sample) "
   ]
  },
  {
   "cell_type": "code",
   "execution_count": null,
   "metadata": {},
   "outputs": [],
   "source": []
  },
  {
   "cell_type": "code",
   "execution_count": null,
   "metadata": {},
   "outputs": [],
   "source": []
  },
  {
   "cell_type": "code",
   "execution_count": null,
   "metadata": {},
   "outputs": [],
   "source": []
  },
  {
   "cell_type": "code",
   "execution_count": null,
   "metadata": {},
   "outputs": [],
   "source": []
  },
  {
   "cell_type": "code",
   "execution_count": null,
   "metadata": {},
   "outputs": [],
   "source": []
  }
 ],
 "metadata": {
  "kernelspec": {
   "display_name": "Python 3",
   "language": "python",
   "name": "python3"
  },
  "language_info": {
   "codemirror_mode": {
    "name": "ipython",
    "version": 3
   },
   "file_extension": ".py",
   "mimetype": "text/x-python",
   "name": "python",
   "nbconvert_exporter": "python",
   "pygments_lexer": "ipython3",
   "version": "3.7.6"
  }
 },
 "nbformat": 4,
 "nbformat_minor": 4
}
